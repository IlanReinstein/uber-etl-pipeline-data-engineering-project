{
 "cells": [
  {
   "cell_type": "code",
   "execution_count": 2,
   "id": "inner-middle",
   "metadata": {},
   "outputs": [],
   "source": [
    "import polars as pl"
   ]
  },
  {
   "cell_type": "code",
   "execution_count": 3,
   "id": "environmental-suspect",
   "metadata": {},
   "outputs": [],
   "source": [
    "df = pl.read_csv('data/uber_data.csv')"
   ]
  },
  {
   "cell_type": "code",
   "execution_count": 4,
   "id": "extra-complexity",
   "metadata": {},
   "outputs": [],
   "source": [
    "uber_data = df.with_columns(\n",
    "    pl.col('tpep_pickup_datetime').str.to_datetime().alias('tpep_pickup_datetime'),\n",
    "    pl.col('tpep_dropoff_datetime').str.to_datetime().alias('tpep_dropoff_datetime'),\n",
    ").with_row_count('trip_id')"
   ]
  },
  {
   "cell_type": "code",
   "execution_count": 5,
   "id": "virtual-spare",
   "metadata": {},
   "outputs": [],
   "source": [
    "datetime_dim = uber_data.select(\n",
    "    pl.col(\"tpep_pickup_datetime\"),\n",
    "    pl.col('tpep_pickup_datetime').dt.hour().alias('pickup_hour'),\n",
    "    pl.col('tpep_pickup_datetime').dt.day().alias('pickup_day'),\n",
    "    pl.col('tpep_pickup_datetime').dt.weekday().alias('pickup_weekday'),\n",
    "    pl.col('tpep_pickup_datetime').dt.month().alias('pickup_month'),\n",
    "    pl.col('tpep_pickup_datetime').dt.year().alias('pickup_year'),\n",
    "    pl.col(\"tpep_dropoff_datetime\"),\n",
    "    pl.col('tpep_dropoff_datetime').dt.hour().alias('dropoff_hour'),\n",
    "    pl.col('tpep_dropoff_datetime').dt.day().alias('dropoff_day'),\n",
    "    pl.col('tpep_dropoff_datetime').dt.weekday().alias('dropoff_weekday'),\n",
    "    pl.col('tpep_dropoff_datetime').dt.month().alias('dropoff_month'),\n",
    "    pl.col('tpep_dropoff_datetime').dt.year().alias('dropoff_year')\n",
    ").unique().with_row_count('datetime_id')\n"
   ]
  },
  {
   "cell_type": "code",
   "execution_count": 6,
   "id": "written-omega",
   "metadata": {},
   "outputs": [],
   "source": [
    "passenger_count_dim = uber_data.select(\n",
    "    pl.col('passenger_count')\n",
    ").unique().with_row_count('passenger_count_id')\n",
    "\n",
    "# trip_distance_dim = uber_data.select(\n",
    "#     pl.col('trip_distance')\n",
    "# ).unique().with_row_count('trip_distance_id')"
   ]
  },
  {
   "cell_type": "code",
   "execution_count": 7,
   "id": "valuable-jacksonville",
   "metadata": {},
   "outputs": [],
   "source": [
    "rate_code_type = {\n",
    "    1:\"Standard rate\",\n",
    "    2:\"JFK\",\n",
    "    3:\"Newark\",\n",
    "    4:\"Nassau or Westchester\",\n",
    "    5:\"Negotiated fare\",\n",
    "    6:\"Group ride\"\n",
    "}\n",
    "rate_code_dim = uber_data.select(\n",
    "    pl.col(\"RatecodeID\"),\n",
    "    pl.col(\"RatecodeID\").map_dict(rate_code_type).alias(\"rate_code_name\")\n",
    ").unique().with_row_count('rate_code_id')"
   ]
  },
  {
   "cell_type": "code",
   "execution_count": 8,
   "id": "comic-johnston",
   "metadata": {},
   "outputs": [],
   "source": [
    "# pickup_loc_dim = uber_data.select(\n",
    "#     pl.col('pickup_latitude'),\n",
    "#     pl.col('pickup_longitude')\n",
    "# ).unique().with_row_count('pickup_loc_id')\n",
    "\n",
    "# dropoff_loc_dim = uber_data.select(\n",
    "#     pl.col('dropoff_latitude'),\n",
    "#     pl.col('dropoff_longitude')\n",
    "# ).with_row_count('dropoff_loc_id')"
   ]
  },
  {
   "cell_type": "code",
   "execution_count": 9,
   "id": "dutch-tiffany",
   "metadata": {},
   "outputs": [],
   "source": [
    "payment_type_name = {\n",
    "    1:\"Credit card\",\n",
    "    2:\"Cash\",\n",
    "    3:\"No charge\",\n",
    "    4:\"Dispute\",\n",
    "    5:\"Unknown\",\n",
    "    6:\"Voided trip\"\n",
    "}\n",
    "\n",
    "payment_type_dim = uber_data.select(\n",
    "    pl.col(\"payment_type\"),\n",
    "    pl.col(\"payment_type\").map_dict(payment_type_name).alias(\"payment_type_name\")\n",
    ").unique().with_row_count('payment_type_id')"
   ]
  },
  {
   "cell_type": "code",
   "execution_count": 16,
   "id": "polished-andrews",
   "metadata": {},
   "outputs": [],
   "source": [
    "fact_table = uber_data.join(datetime_dim, on = ['tpep_pickup_datetime', 'tpep_dropoff_datetime']) \\\n",
    "    .join(passenger_count_dim, on = 'passenger_count') \\\n",
    "    .join(rate_code_dim, on = 'RatecodeID')  \\\n",
    "    .join(payment_type_dim, on = 'payment_type') \\\n",
    "    .select(['trip_id','VendorID', 'datetime_id', 'passenger_count_id','payment_type_id', \n",
    "            'rate_code_id', 'store_and_fwd_flag', \n",
    "             # location can be stored in a separate dimension however for simplicity and improved transformation was kept as part of the fact\n",
    "             'pickup_latitude', 'pickup_longitude', 'dropoff_latitude', 'dropoff_longitude',\n",
    "             'trip_distance', 'fare_amount', 'extra', 'mta_tax', 'tip_amount', 'tolls_amount',\n",
    "             'improvement_surcharge', 'total_amount'])"
   ]
  },
  {
   "cell_type": "code",
   "execution_count": null,
   "id": "stupid-somerset",
   "metadata": {},
   "outputs": [],
   "source": [
    "fact_table[1:10,].to_dict()"
   ]
  },
  {
   "cell_type": "code",
   "execution_count": null,
   "id": "moderate-feeding",
   "metadata": {},
   "outputs": [],
   "source": []
  }
 ],
 "metadata": {
  "kernelspec": {
   "display_name": "Python 3 (ipykernel)",
   "language": "python",
   "name": "python3"
  },
  "language_info": {
   "codemirror_mode": {
    "name": "ipython",
    "version": 3
   },
   "file_extension": ".py",
   "mimetype": "text/x-python",
   "name": "python",
   "nbconvert_exporter": "python",
   "pygments_lexer": "ipython3",
   "version": "3.9.6"
  }
 },
 "nbformat": 4,
 "nbformat_minor": 5
}
